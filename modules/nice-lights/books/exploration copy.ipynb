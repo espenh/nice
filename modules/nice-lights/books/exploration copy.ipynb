{
 "cells": [
  {
   "cell_type": "code",
   "execution_count": 1,
   "metadata": {},
   "outputs": [
    {
     "ename": "ModuleNotFoundError",
     "evalue": "No module named 'nice_lights'",
     "output_type": "error",
     "traceback": [
      "\u001b[0;31m---------------------------------------------------------------------------\u001b[0m",
      "\u001b[0;31mModuleNotFoundError\u001b[0m                       Traceback (most recent call last)",
      "Cell \u001b[0;32mIn[1], line 1\u001b[0m\n\u001b[0;32m----> 1\u001b[0m \u001b[39mfrom\u001b[39;00m \u001b[39mnice_lights\u001b[39;00m \u001b[39mimport\u001b[39;00m dark_frame\n",
      "\u001b[0;31mModuleNotFoundError\u001b[0m: No module named 'nice_lights'"
     ]
    }
   ],
   "source": [
    "from nice_lights import dark_frame"
   ]
  },
  {
   "cell_type": "code",
   "execution_count": null,
   "metadata": {},
   "outputs": [],
   "source": [
    "discovered_device = xled.discover.discover()\n",
    "discovered_device.id"
   ]
  },
  {
   "cell_type": "code",
   "execution_count": null,
   "metadata": {},
   "outputs": [],
   "source": [
    "from nice_lights import Lights\n"
   ]
  },
  {
   "cell_type": "code",
   "execution_count": null,
   "metadata": {},
   "outputs": [],
   "source": [
    "device_ip = \"192.168.10.143\"\n",
    "control = xled.ControlInterface(device_ip)\n",
    "control.set_mode('movie')\n",
    "control.get_mode()['mode']"
   ]
  },
  {
   "cell_type": "code",
   "execution_count": null,
   "metadata": {},
   "outputs": [],
   "source": [
    "frame = \n",
    "control.set_rt_frame_socket(frame, 3)"
   ]
  }
 ],
 "metadata": {
  "kernelspec": {
   "display_name": ".venv",
   "language": "python",
   "name": "python3"
  },
  "language_info": {
   "codemirror_mode": {
    "name": "ipython",
    "version": 3
   },
   "file_extension": ".py",
   "mimetype": "text/x-python",
   "name": "python",
   "nbconvert_exporter": "python",
   "pygments_lexer": "ipython3",
   "version": "3.8.10"
  },
  "orig_nbformat": 4,
  "vscode": {
   "interpreter": {
    "hash": "66e798941421653da8ffc6836ebaf3773f37c936a36749145a29e2cccdf8a55c"
   }
  }
 },
 "nbformat": 4,
 "nbformat_minor": 2
}
